{
 "cells": [
  {
   "cell_type": "code",
   "execution_count": 1,
   "id": "9f8a87f6",
   "metadata": {},
   "outputs": [
    {
     "name": "stdout",
     "output_type": "stream",
     "text": [
      "Collecting torch_geometric\n",
      "  Downloading torch_geometric-2.5.3-py3-none-any.whl (1.1 MB)\n",
      "\u001b[2K     \u001b[90m━━━━━━━━━━━━━━━━━━━━━━━━━━━━━━━━━━━━━━━━\u001b[0m \u001b[32m1.1/1.1 MB\u001b[0m \u001b[31m11.4 MB/s\u001b[0m eta \u001b[36m0:00:00\u001b[0ma \u001b[36m0:00:01\u001b[0m\n",
      "\u001b[?25hRequirement already satisfied: scikit-learn in /Users/vitthalsrinivasan/anaconda3/lib/python3.10/site-packages (from torch_geometric) (1.2.1)\n",
      "Requirement already satisfied: requests in /Users/vitthalsrinivasan/anaconda3/lib/python3.10/site-packages (from torch_geometric) (2.28.1)\n",
      "Requirement already satisfied: numpy in /Users/vitthalsrinivasan/anaconda3/lib/python3.10/site-packages (from torch_geometric) (1.23.5)\n",
      "Collecting aiohttp\n",
      "  Downloading aiohttp-3.9.5-cp310-cp310-macosx_11_0_arm64.whl (389 kB)\n",
      "\u001b[2K     \u001b[90m━━━━━━━━━━━━━━━━━━━━━━━━━━━━━━━━━━━━━━\u001b[0m \u001b[32m389.9/389.9 kB\u001b[0m \u001b[31m13.9 MB/s\u001b[0m eta \u001b[36m0:00:00\u001b[0m\n",
      "\u001b[?25hRequirement already satisfied: jinja2 in /Users/vitthalsrinivasan/anaconda3/lib/python3.10/site-packages (from torch_geometric) (3.1.2)\n",
      "Requirement already satisfied: fsspec in /Users/vitthalsrinivasan/anaconda3/lib/python3.10/site-packages (from torch_geometric) (2022.11.0)\n",
      "Requirement already satisfied: scipy in /Users/vitthalsrinivasan/anaconda3/lib/python3.10/site-packages (from torch_geometric) (1.10.0)\n",
      "Requirement already satisfied: tqdm in /Users/vitthalsrinivasan/anaconda3/lib/python3.10/site-packages (from torch_geometric) (4.64.1)\n",
      "Requirement already satisfied: psutil>=5.8.0 in /Users/vitthalsrinivasan/anaconda3/lib/python3.10/site-packages (from torch_geometric) (5.9.0)\n",
      "Requirement already satisfied: pyparsing in /Users/vitthalsrinivasan/anaconda3/lib/python3.10/site-packages (from torch_geometric) (3.0.9)\n",
      "Collecting async-timeout<5.0,>=4.0\n",
      "  Downloading async_timeout-4.0.3-py3-none-any.whl (5.7 kB)\n",
      "Collecting frozenlist>=1.1.1\n",
      "  Downloading frozenlist-1.4.1-cp310-cp310-macosx_11_0_arm64.whl (52 kB)\n",
      "\u001b[2K     \u001b[90m━━━━━━━━━━━━━━━━━━━━━━━━━━━━━━━━━━━━━━━━\u001b[0m \u001b[32m52.2/52.2 kB\u001b[0m \u001b[31m6.4 MB/s\u001b[0m eta \u001b[36m0:00:00\u001b[0m\n",
      "\u001b[?25hCollecting aiosignal>=1.1.2\n",
      "  Using cached aiosignal-1.3.1-py3-none-any.whl (7.6 kB)\n",
      "Collecting yarl<2.0,>=1.0\n",
      "  Downloading yarl-1.9.4-cp310-cp310-macosx_11_0_arm64.whl (79 kB)\n",
      "\u001b[2K     \u001b[90m━━━━━━━━━━━━━━━━━━━━━━━━━━━━━━━━━━━━━━━━\u001b[0m \u001b[32m79.2/79.2 kB\u001b[0m \u001b[31m6.1 MB/s\u001b[0m eta \u001b[36m0:00:00\u001b[0m\n",
      "\u001b[?25hCollecting multidict<7.0,>=4.5\n",
      "  Downloading multidict-6.0.5-cp310-cp310-macosx_11_0_arm64.whl (30 kB)\n",
      "Requirement already satisfied: attrs>=17.3.0 in /Users/vitthalsrinivasan/anaconda3/lib/python3.10/site-packages (from aiohttp->torch_geometric) (22.1.0)\n",
      "Requirement already satisfied: MarkupSafe>=2.0 in /Users/vitthalsrinivasan/anaconda3/lib/python3.10/site-packages (from jinja2->torch_geometric) (2.1.1)\n",
      "Requirement already satisfied: urllib3<1.27,>=1.21.1 in /Users/vitthalsrinivasan/anaconda3/lib/python3.10/site-packages (from requests->torch_geometric) (1.26.14)\n",
      "Requirement already satisfied: certifi>=2017.4.17 in /Users/vitthalsrinivasan/anaconda3/lib/python3.10/site-packages (from requests->torch_geometric) (2022.12.7)\n",
      "Requirement already satisfied: charset-normalizer<3,>=2 in /Users/vitthalsrinivasan/anaconda3/lib/python3.10/site-packages (from requests->torch_geometric) (2.0.4)\n",
      "Requirement already satisfied: idna<4,>=2.5 in /Users/vitthalsrinivasan/anaconda3/lib/python3.10/site-packages (from requests->torch_geometric) (3.4)\n",
      "Requirement already satisfied: joblib>=1.1.1 in /Users/vitthalsrinivasan/anaconda3/lib/python3.10/site-packages (from scikit-learn->torch_geometric) (1.1.1)\n",
      "Requirement already satisfied: threadpoolctl>=2.0.0 in /Users/vitthalsrinivasan/anaconda3/lib/python3.10/site-packages (from scikit-learn->torch_geometric) (2.2.0)\n",
      "Installing collected packages: multidict, frozenlist, async-timeout, yarl, aiosignal, aiohttp, torch_geometric\n",
      "Successfully installed aiohttp-3.9.5 aiosignal-1.3.1 async-timeout-4.0.3 frozenlist-1.4.1 multidict-6.0.5 torch_geometric-2.5.3 yarl-1.9.4\n",
      "Note: you may need to restart the kernel to use updated packages.\n"
     ]
    }
   ],
   "source": [
    "pip install torch_geometric"
   ]
  },
  {
   "cell_type": "code",
   "execution_count": 2,
   "id": "9655c2a9-30f2-4bb1-81e3-ec903b8b47fd",
   "metadata": {},
   "outputs": [
    {
     "name": "stdout",
     "output_type": "stream",
     "text": [
      "Requirement already satisfied: torch in /Users/vitthalsrinivasan/anaconda3/lib/python3.10/site-packages (1.12.1)\n",
      "Requirement already satisfied: typing_extensions in /Users/vitthalsrinivasan/anaconda3/lib/python3.10/site-packages (from torch) (4.4.0)\n",
      "Note: you may need to restart the kernel to use updated packages.\n"
     ]
    }
   ],
   "source": [
    "pip install torch"
   ]
  },
  {
   "cell_type": "code",
   "execution_count": 3,
   "id": "01847640-9d3c-49d8-bacf-70a214c03ff8",
   "metadata": {},
   "outputs": [
    {
     "name": "stdout",
     "output_type": "stream",
     "text": [
      "Collecting sentence_transformers\n",
      "  Downloading sentence_transformers-2.7.0-py3-none-any.whl (171 kB)\n",
      "\u001b[2K     \u001b[90m━━━━━━━━━━━━━━━━━━━━━━━━━━━━━━━━━━━━━━━\u001b[0m \u001b[32m171.5/171.5 kB\u001b[0m \u001b[31m4.0 MB/s\u001b[0m eta \u001b[36m0:00:00\u001b[0ma \u001b[36m0:00:01\u001b[0m\n",
      "\u001b[?25hRequirement already satisfied: scipy in /Users/vitthalsrinivasan/anaconda3/lib/python3.10/site-packages (from sentence_transformers) (1.10.0)\n",
      "Requirement already satisfied: tqdm in /Users/vitthalsrinivasan/anaconda3/lib/python3.10/site-packages (from sentence_transformers) (4.64.1)\n",
      "Requirement already satisfied: scikit-learn in /Users/vitthalsrinivasan/anaconda3/lib/python3.10/site-packages (from sentence_transformers) (1.2.1)\n",
      "Requirement already satisfied: Pillow in /Users/vitthalsrinivasan/anaconda3/lib/python3.10/site-packages (from sentence_transformers) (9.4.0)\n",
      "Requirement already satisfied: torch>=1.11.0 in /Users/vitthalsrinivasan/anaconda3/lib/python3.10/site-packages (from sentence_transformers) (1.12.1)\n",
      "Collecting huggingface-hub>=0.15.1\n",
      "  Downloading huggingface_hub-0.23.0-py3-none-any.whl (401 kB)\n",
      "\u001b[2K     \u001b[90m━━━━━━━━━━━━━━━━━━━━━━━━━━━━━━━━━━━━━━\u001b[0m \u001b[32m401.2/401.2 kB\u001b[0m \u001b[31m11.2 MB/s\u001b[0m eta \u001b[36m0:00:00\u001b[0m\n",
      "\u001b[?25hCollecting transformers<5.0.0,>=4.34.0\n",
      "  Downloading transformers-4.40.2-py3-none-any.whl (9.0 MB)\n",
      "\u001b[2K     \u001b[90m━━━━━━━━━━━━━━━━━━━━━━━━━━━━━━━━━━━━━━━━\u001b[0m \u001b[32m9.0/9.0 MB\u001b[0m \u001b[31m17.2 MB/s\u001b[0m eta \u001b[36m0:00:00\u001b[0m00:01\u001b[0m00:01\u001b[0m\n",
      "\u001b[?25hRequirement already satisfied: numpy in /Users/vitthalsrinivasan/anaconda3/lib/python3.10/site-packages (from sentence_transformers) (1.23.5)\n",
      "Requirement already satisfied: packaging>=20.9 in /Users/vitthalsrinivasan/anaconda3/lib/python3.10/site-packages (from huggingface-hub>=0.15.1->sentence_transformers) (22.0)\n",
      "Requirement already satisfied: pyyaml>=5.1 in /Users/vitthalsrinivasan/anaconda3/lib/python3.10/site-packages (from huggingface-hub>=0.15.1->sentence_transformers) (6.0)\n",
      "Requirement already satisfied: requests in /Users/vitthalsrinivasan/anaconda3/lib/python3.10/site-packages (from huggingface-hub>=0.15.1->sentence_transformers) (2.28.1)\n",
      "Requirement already satisfied: typing-extensions>=3.7.4.3 in /Users/vitthalsrinivasan/anaconda3/lib/python3.10/site-packages (from huggingface-hub>=0.15.1->sentence_transformers) (4.4.0)\n",
      "Collecting fsspec>=2023.5.0\n",
      "  Downloading fsspec-2024.3.1-py3-none-any.whl (171 kB)\n",
      "\u001b[2K     \u001b[90m━━━━━━━━━━━━━━━━━━━━━━━━━━━━━━━━━━━━━━\u001b[0m \u001b[32m172.0/172.0 kB\u001b[0m \u001b[31m13.4 MB/s\u001b[0m eta \u001b[36m0:00:00\u001b[0m\n",
      "\u001b[?25hRequirement already satisfied: filelock in /Users/vitthalsrinivasan/anaconda3/lib/python3.10/site-packages (from huggingface-hub>=0.15.1->sentence_transformers) (3.12.2)\n",
      "Requirement already satisfied: regex!=2019.12.17 in /Users/vitthalsrinivasan/anaconda3/lib/python3.10/site-packages (from transformers<5.0.0,>=4.34.0->sentence_transformers) (2022.7.9)\n",
      "Collecting tokenizers<0.20,>=0.19\n",
      "  Downloading tokenizers-0.19.1-cp310-cp310-macosx_11_0_arm64.whl (2.4 MB)\n",
      "\u001b[2K     \u001b[90m━━━━━━━━━━━━━━━━━━━━━━━━━━━━━━━━━━━━━━━━\u001b[0m \u001b[32m2.4/2.4 MB\u001b[0m \u001b[31m41.4 MB/s\u001b[0m eta \u001b[36m0:00:00\u001b[0ma \u001b[36m0:00:01\u001b[0m\n",
      "\u001b[?25hCollecting safetensors>=0.4.1\n",
      "  Downloading safetensors-0.4.3-cp310-cp310-macosx_11_0_arm64.whl (410 kB)\n",
      "\u001b[2K     \u001b[90m━━━━━━━━━━━━━━━━━━━━━━━━━━━━━━━━━━━━━━\u001b[0m \u001b[32m410.9/410.9 kB\u001b[0m \u001b[31m27.8 MB/s\u001b[0m eta \u001b[36m0:00:00\u001b[0m\n",
      "\u001b[?25hRequirement already satisfied: threadpoolctl>=2.0.0 in /Users/vitthalsrinivasan/anaconda3/lib/python3.10/site-packages (from scikit-learn->sentence_transformers) (2.2.0)\n",
      "Requirement already satisfied: joblib>=1.1.1 in /Users/vitthalsrinivasan/anaconda3/lib/python3.10/site-packages (from scikit-learn->sentence_transformers) (1.1.1)\n",
      "Requirement already satisfied: charset-normalizer<3,>=2 in /Users/vitthalsrinivasan/anaconda3/lib/python3.10/site-packages (from requests->huggingface-hub>=0.15.1->sentence_transformers) (2.0.4)\n",
      "Requirement already satisfied: urllib3<1.27,>=1.21.1 in /Users/vitthalsrinivasan/anaconda3/lib/python3.10/site-packages (from requests->huggingface-hub>=0.15.1->sentence_transformers) (1.26.14)\n",
      "Requirement already satisfied: certifi>=2017.4.17 in /Users/vitthalsrinivasan/anaconda3/lib/python3.10/site-packages (from requests->huggingface-hub>=0.15.1->sentence_transformers) (2022.12.7)\n",
      "Requirement already satisfied: idna<4,>=2.5 in /Users/vitthalsrinivasan/anaconda3/lib/python3.10/site-packages (from requests->huggingface-hub>=0.15.1->sentence_transformers) (3.4)\n",
      "Installing collected packages: safetensors, fsspec, huggingface-hub, tokenizers, transformers, sentence_transformers\n",
      "  Attempting uninstall: fsspec\n",
      "    Found existing installation: fsspec 2022.11.0\n",
      "    Uninstalling fsspec-2022.11.0:\n",
      "      Successfully uninstalled fsspec-2022.11.0\n",
      "  Attempting uninstall: huggingface-hub\n",
      "    Found existing installation: huggingface-hub 0.10.1\n",
      "    Uninstalling huggingface-hub-0.10.1:\n",
      "      Successfully uninstalled huggingface-hub-0.10.1\n",
      "  Attempting uninstall: tokenizers\n",
      "    Found existing installation: tokenizers 0.11.4\n",
      "    Uninstalling tokenizers-0.11.4:\n",
      "      Successfully uninstalled tokenizers-0.11.4\n",
      "  Attempting uninstall: transformers\n",
      "    Found existing installation: transformers 4.24.0\n",
      "    Uninstalling transformers-4.24.0:\n",
      "      Successfully uninstalled transformers-4.24.0\n",
      "Successfully installed fsspec-2024.3.1 huggingface-hub-0.23.0 safetensors-0.4.3 sentence_transformers-2.7.0 tokenizers-0.19.1 transformers-4.40.2\n",
      "Note: you may need to restart the kernel to use updated packages.\n"
     ]
    }
   ],
   "source": [
    "pip install sentence_transformers"
   ]
  },
  {
   "cell_type": "code",
   "execution_count": 4,
   "id": "599144dc-59a7-4e0f-92e2-05a6d0f5f7f1",
   "metadata": {
    "scrolled": true
   },
   "outputs": [
    {
     "name": "stdout",
     "output_type": "stream",
     "text": [
      "Requirement already satisfied: matplotlib in /Users/vitthalsrinivasan/anaconda3/lib/python3.10/site-packages (3.7.0)\n",
      "Requirement already satisfied: pandas in /Users/vitthalsrinivasan/anaconda3/lib/python3.10/site-packages (1.5.3)\n",
      "Requirement already satisfied: scikit-learn in /Users/vitthalsrinivasan/anaconda3/lib/python3.10/site-packages (1.2.1)\n",
      "Requirement already satisfied: python-dateutil>=2.7 in /Users/vitthalsrinivasan/anaconda3/lib/python3.10/site-packages (from matplotlib) (2.8.2)\n",
      "Requirement already satisfied: packaging>=20.0 in /Users/vitthalsrinivasan/anaconda3/lib/python3.10/site-packages (from matplotlib) (22.0)\n",
      "Requirement already satisfied: pillow>=6.2.0 in /Users/vitthalsrinivasan/anaconda3/lib/python3.10/site-packages (from matplotlib) (9.4.0)\n",
      "Requirement already satisfied: numpy>=1.20 in /Users/vitthalsrinivasan/anaconda3/lib/python3.10/site-packages (from matplotlib) (1.23.5)\n",
      "Requirement already satisfied: kiwisolver>=1.0.1 in /Users/vitthalsrinivasan/anaconda3/lib/python3.10/site-packages (from matplotlib) (1.4.4)\n",
      "Requirement already satisfied: cycler>=0.10 in /Users/vitthalsrinivasan/anaconda3/lib/python3.10/site-packages (from matplotlib) (0.11.0)\n",
      "Requirement already satisfied: fonttools>=4.22.0 in /Users/vitthalsrinivasan/anaconda3/lib/python3.10/site-packages (from matplotlib) (4.25.0)\n",
      "Requirement already satisfied: contourpy>=1.0.1 in /Users/vitthalsrinivasan/anaconda3/lib/python3.10/site-packages (from matplotlib) (1.0.5)\n",
      "Requirement already satisfied: pyparsing>=2.3.1 in /Users/vitthalsrinivasan/anaconda3/lib/python3.10/site-packages (from matplotlib) (3.0.9)\n",
      "Requirement already satisfied: pytz>=2020.1 in /Users/vitthalsrinivasan/anaconda3/lib/python3.10/site-packages (from pandas) (2022.7)\n",
      "Requirement already satisfied: threadpoolctl>=2.0.0 in /Users/vitthalsrinivasan/anaconda3/lib/python3.10/site-packages (from scikit-learn) (2.2.0)\n",
      "Requirement already satisfied: scipy>=1.3.2 in /Users/vitthalsrinivasan/anaconda3/lib/python3.10/site-packages (from scikit-learn) (1.10.0)\n",
      "Requirement already satisfied: joblib>=1.1.1 in /Users/vitthalsrinivasan/anaconda3/lib/python3.10/site-packages (from scikit-learn) (1.1.1)\n",
      "Requirement already satisfied: six>=1.5 in /Users/vitthalsrinivasan/anaconda3/lib/python3.10/site-packages (from python-dateutil>=2.7->matplotlib) (1.16.0)\n",
      "Note: you may need to restart the kernel to use updated packages.\n"
     ]
    }
   ],
   "source": [
    "pip install matplotlib pandas scikit-learn"
   ]
  },
  {
   "cell_type": "markdown",
   "id": "325ac8a6-a5b3-4660-b033-092df2c8cf05",
   "metadata": {},
   "source": [
    "Importing Libraries"
   ]
  },
  {
   "cell_type": "code",
   "execution_count": 1,
   "id": "3e5a9588-c9e5-4f4c-b837-df656f40133f",
   "metadata": {},
   "outputs": [
    {
     "name": "stderr",
     "output_type": "stream",
     "text": [
      "/Users/vitthalsrinivasan/anaconda3/lib/python3.10/site-packages/tqdm/auto.py:22: TqdmWarning: IProgress not found. Please update jupyter and ipywidgets. See https://ipywidgets.readthedocs.io/en/stable/user_install.html\n",
      "  from .autonotebook import tqdm as notebook_tqdm\n"
     ]
    }
   ],
   "source": [
    "import torch\n",
    "import random\n",
    "import networkx as nx\n",
    "import matplotlib.pyplot as plt"
   ]
  },
  {
   "cell_type": "markdown",
   "id": "319870a2-aa68-4f39-a0e1-d36fad7284e1",
   "metadata": {},
   "source": [
    "Ref-doc-link-\n",
    "https://pytorch-geometric.readthedocs.io/en/latest/get_started/introduction.html#data-handling-of-graphs"
   ]
  },
  {
   "cell_type": "markdown",
   "id": "9795b1ff",
   "metadata": {},
   "source": [
    "Showing a simple example of an unweighted and undirected graph with 3 nodes and 2 edges. Each node contains a single feature"
   ]
  },
  {
   "cell_type": "code",
   "execution_count": 2,
   "id": "29366675",
   "metadata": {},
   "outputs": [
    {
     "data": {
      "text/plain": [
       "Data(x=[3, 1], edge_index=[2, 4])"
      ]
     },
     "execution_count": 2,
     "metadata": {},
     "output_type": "execute_result"
    }
   ],
   "source": [
    "from torch_geometric.data import Data\n",
    "\n",
    "edge_index = torch.tensor([[0, 1, 1, 2],\n",
    "                           [1, 0, 2, 1]], dtype = torch.long)\n",
    "\n",
    "x = torch.tensor([[0], [1], [2]], dtype = torch.float)\n",
    "\n",
    "graph_data0 = Data(x = x, edge_index = edge_index)\n",
    "\n",
    "graph_data0"
   ]
  },
  {
   "cell_type": "markdown",
   "id": "dd6fd075-47f0-4b4c-aced-7cb55e14ead6",
   "metadata": {},
   "source": [
    "Showing a simple example of an unweighted and undirected graph with 5 nodes and four edges. Each node contains 2 features"
   ]
  },
  {
   "cell_type": "code",
   "execution_count": 3,
   "id": "0761f96a",
   "metadata": {},
   "outputs": [
    {
     "data": {
      "text/plain": [
       "Data(x=[5, 2], edge_index=[2, 8])"
      ]
     },
     "execution_count": 3,
     "metadata": {},
     "output_type": "execute_result"
    }
   ],
   "source": [
    "edge_index = torch.tensor([[0, 1, 1, 2, 1, 3, 1, 4],\n",
    "                           [1, 0, 2, 1, 3, 1, 4, 1]], dtype = torch.long)\n",
    "\n",
    "x = torch.tensor([[1, 0], [0, 1], [-1, 2], [2, 0], [1, -1]], dtype = torch.float)\n",
    "\n",
    "graph_data1 = Data(x = x, edge_index = edge_index)\n",
    "\n",
    "graph_data1"
   ]
  },
  {
   "cell_type": "markdown",
   "id": "1ef774b5-32c4-4f4c-88f2-481e09ec0234",
   "metadata": {},
   "source": [
    "Note that edge_index, i.e. the tensor defining the source and target nodes of all edges, is not a list of index tuples. If we want to write your indices this way, we should transpose and call contiguous on it before passing them to the data constructor"
   ]
  },
  {
   "cell_type": "code",
   "execution_count": 4,
   "id": "9ef488f9-abb4-4deb-9508-ad10064eff90",
   "metadata": {},
   "outputs": [
    {
     "data": {
      "text/plain": [
       "Data(x=[5, 2], edge_index=[2, 8])"
      ]
     },
     "execution_count": 4,
     "metadata": {},
     "output_type": "execute_result"
    }
   ],
   "source": [
    "edge_index = torch.tensor([[0, 1],\n",
    "                           [1, 0],\n",
    "                           [1, 2],\n",
    "                           [2, 1],\n",
    "                           [1, 3],\n",
    "                           [3, 1],\n",
    "                           [1, 4],\n",
    "                           [4, 1]], dtype=torch.long)\n",
    "\n",
    "x = torch.tensor([[1, 0], [0, 1], [-1, 2], [2, 0], [1, -1]], dtype=torch.float)\n",
    "\n",
    "graph_data1 = Data(x = x, edge_index = edge_index.t().contiguous())\n",
    "\n",
    "graph_data1"
   ]
  },
  {
   "cell_type": "markdown",
   "id": "06e5b72a-8033-47ec-85a7-c2065e926454",
   "metadata": {},
   "source": [
    "Converting the edge indices into pair wise tuples for plotting the graph"
   ]
  },
  {
   "cell_type": "code",
   "execution_count": 7,
   "id": "21cf88f8-d2e7-473c-8f2b-862d160bebe3",
   "metadata": {},
   "outputs": [
    {
     "data": {
      "text/plain": [
       "[(0, 1), (1, 0), (1, 2), (2, 1), (1, 3), (3, 1), (1, 4), (4, 1)]"
      ]
     },
     "execution_count": 7,
     "metadata": {},
     "output_type": "execute_result"
    }
   ],
   "source": [
    "edges = [(graph_data1.edge_index[0, i].item(), graph_data1.edge_index[1, i].item()) \n",
    "             for i in range(graph_data1.edge_index.size(1))]\n",
    "\n",
    "edges"
   ]
  },
  {
   "cell_type": "markdown",
   "id": "c749bca9-68a7-44ec-a755-1e0e019f1c9e",
   "metadata": {},
   "source": [
    "Using networkx to plot graph with nodes and edges"
   ]
  },
  {
   "cell_type": "code",
   "execution_count": 8,
   "id": "090b71ca-bfd0-4d6e-8402-b4cf49265441",
   "metadata": {},
   "outputs": [
    {
     "data": {
      "image/png": "[encoded data removed]",
      "text/plain": [
       "<Figure size 640x480 with 1 Axes>"
      ]
     },
     "metadata": {},
     "output_type": "display_data"
    }
   ],
   "source": [
    "# Creating an empty graph\n",
    "G = nx.Graph()\n",
    "\n",
    "# Adding nodes\n",
    "num_nodes = graph_data1.num_nodes\n",
    "G.add_nodes_from(range(num_nodes))\n",
    "\n",
    "# Adding edges\n",
    "G.add_edges_from(edges)\n",
    "\n",
    "# Positioning nodes using spring layout\n",
    "pos = nx.spring_layout(G)\n",
    "\n",
    "# Drawing graph\n",
    "nx.draw_networkx(G, pos, with_labels = True, font_weight = \"bold\")\n",
    "\n",
    "# Showing plot\n",
    "plt.show()"
   ]
  },
  {
   "cell_type": "markdown",
   "id": "e6f65da0-a2dc-49eb-b3e8-566c4494bb11",
   "metadata": {},
   "source": [
    "Besides holding a number of node-level, edge-level or graph-level attributes, Data provides a number of useful utility functions, e.g.:"
   ]
  },
  {
   "cell_type": "code",
   "execution_count": 9,
   "id": "1d56ce5e-86aa-4c73-a4b2-2c3f6a24ae19",
   "metadata": {},
   "outputs": [
    {
     "data": {
      "text/plain": [
       "['x', 'edge_index']"
      ]
     },
     "execution_count": 9,
     "metadata": {},
     "output_type": "execute_result"
    }
   ],
   "source": [
    "graph_data1.keys()"
   ]
  },
  {
   "cell_type": "code",
   "execution_count": 10,
   "id": "de46dbf6-a6b2-4605-80d1-c6f459225e35",
   "metadata": {},
   "outputs": [
    {
     "data": {
      "text/plain": [
       "tensor([[ 1.,  0.],\n",
       "        [ 0.,  1.],\n",
       "        [-1.,  2.],\n",
       "        [ 2.,  0.],\n",
       "        [ 1., -1.]])"
      ]
     },
     "execution_count": 10,
     "metadata": {},
     "output_type": "execute_result"
    }
   ],
   "source": [
    "graph_data1['x']"
   ]
  },
  {
   "cell_type": "code",
   "execution_count": 11,
   "id": "9074487b-497e-4867-8a8d-8c73224e81ed",
   "metadata": {},
   "outputs": [
    {
     "data": {
      "text/plain": [
       "tensor([[0, 1, 1, 2, 1, 3, 1, 4],\n",
       "        [1, 0, 2, 1, 3, 1, 4, 1]])"
      ]
     },
     "execution_count": 11,
     "metadata": {},
     "output_type": "execute_result"
    }
   ],
   "source": [
    "graph_data1[\"edge_index\"]"
   ]
  },
  {
   "cell_type": "code",
   "execution_count": 12,
   "id": "44ffda9f-f788-489a-bf71-687cd8c95a93",
   "metadata": {},
   "outputs": [
    {
     "data": {
      "text/plain": [
       "5"
      ]
     },
     "execution_count": 12,
     "metadata": {},
     "output_type": "execute_result"
    }
   ],
   "source": [
    "graph_data1.num_nodes"
   ]
  },
  {
   "cell_type": "code",
   "execution_count": 13,
   "id": "5419fb4d-df3b-42ca-aaa3-4326fd4d0720",
   "metadata": {},
   "outputs": [
    {
     "data": {
      "text/plain": [
       "8"
      ]
     },
     "execution_count": 13,
     "metadata": {},
     "output_type": "execute_result"
    }
   ],
   "source": [
    "graph_data1.num_edges"
   ]
  },
  {
   "cell_type": "code",
   "execution_count": 14,
   "id": "9de6f2ff-8e7b-4036-920f-a87db8007138",
   "metadata": {},
   "outputs": [
    {
     "data": {
      "text/plain": [
       "2"
      ]
     },
     "execution_count": 14,
     "metadata": {},
     "output_type": "execute_result"
    }
   ],
   "source": [
    "graph_data1.num_node_features"
   ]
  },
  {
   "cell_type": "code",
   "execution_count": 15,
   "id": "d5358183-7c6b-466f-bb5a-0d0d5fc2ce5e",
   "metadata": {},
   "outputs": [
    {
     "data": {
      "text/plain": [
       "False"
      ]
     },
     "execution_count": 15,
     "metadata": {},
     "output_type": "execute_result"
    }
   ],
   "source": [
    "graph_data1.has_isolated_nodes()"
   ]
  },
  {
   "cell_type": "code",
   "execution_count": 16,
   "id": "0797f161-afaf-41b5-993d-4282c11824ff",
   "metadata": {},
   "outputs": [
    {
     "data": {
      "text/plain": [
       "False"
      ]
     },
     "execution_count": 16,
     "metadata": {},
     "output_type": "execute_result"
    }
   ],
   "source": [
    "graph_data1.has_self_loops()"
   ]
  },
  {
   "cell_type": "code",
   "execution_count": 17,
   "id": "57d65c1f-84b2-4fc6-8948-2e30e5fc4726",
   "metadata": {},
   "outputs": [
    {
     "data": {
      "text/plain": [
       "False"
      ]
     },
     "execution_count": 17,
     "metadata": {},
     "output_type": "execute_result"
    }
   ],
   "source": [
    "graph_data1.is_directed()"
   ]
  },
  {
   "cell_type": "code",
   "execution_count": 18,
   "id": "f8d77010-69f5-4ceb-8714-36a13b9a147b",
   "metadata": {},
   "outputs": [
    {
     "data": {
      "text/plain": [
       "tensor([[0, 1, 1, 2, 1, 3, 1, 4],\n",
       "        [1, 0, 2, 1, 3, 1, 4, 1]])"
      ]
     },
     "execution_count": 18,
     "metadata": {},
     "output_type": "execute_result"
    }
   ],
   "source": [
    "graph_data1.edge_index"
   ]
  },
  {
   "cell_type": "markdown",
   "id": "0cada420-cf04-421f-a940-889b1ff58cea",
   "metadata": {},
   "source": [
    "Creating adjacency matrix single dense batched adjacency matrix for the graph.\n",
    "https://pytorch-geometric.readthedocs.io/en/latest/modules/utils.html#torch_geometric.utils.to_dense_adj\n",
    "\n",
    "#### Convert edge index to dense adjacency matrix"
   ]
  },
  {
   "cell_type": "code",
   "execution_count": 19,
   "id": "1ff9cd2f-ca0b-4f24-87c3-bded8cf4832f",
   "metadata": {},
   "outputs": [
    {
     "name": "stdout",
     "output_type": "stream",
     "text": [
      "tensor([[[0., 1., 0., 0., 0.],\n",
      "         [1., 0., 1., 1., 1.],\n",
      "         [0., 1., 0., 0., 0.],\n",
      "         [0., 1., 0., 0., 0.],\n",
      "         [0., 1., 0., 0., 0.]]])\n"
     ]
    }
   ],
   "source": [
    "from torch_geometric.utils import to_dense_adj\n",
    "\n",
    "adjacency_matrix = to_dense_adj(graph_data1.edge_index)\n",
    "\n",
    "print(adjacency_matrix)"
   ]
  },
  {
   "cell_type": "markdown",
   "id": "c129edad-7e9c-4da9-be2b-41a4aa09edd3",
   "metadata": {},
   "source": [
    "Now we are creating a simple graph with isolated nodes and also having self loop"
   ]
  },
  {
   "cell_type": "code",
   "execution_count": 20,
   "id": "9636e623-ad0f-4149-80d5-04f0eb8c52f4",
   "metadata": {},
   "outputs": [
    {
     "data": {
      "text/plain": [
       "Data(x=[6, 2], edge_index=[2, 6])"
      ]
     },
     "execution_count": 20,
     "metadata": {},
     "output_type": "execute_result"
    }
   ],
   "source": [
    "edge_index = torch.tensor([[0, 1],\n",
    "                           [1, 0],\n",
    "                           [1, 2],\n",
    "                           [2, 1],\n",
    "                           [3, 4],\n",
    "                           [5, 5]], dtype = torch.long)\n",
    "\n",
    "x = torch.tensor([[1, 0], [0, 1], [-1, 2], [2, 0], [1, -1], [2, -2]], dtype = torch.float)\n",
    "\n",
    "graph_data2 = Data(x = x, edge_index = edge_index.t().contiguous())\n",
    "\n",
    "graph_data2"
   ]
  },
  {
   "cell_type": "markdown",
   "id": "77dcda9c-63ce-4f42-8c13-9b2634e8bbb1",
   "metadata": {},
   "source": [
    "Plotting the Graph"
   ]
  },
  {
   "cell_type": "code",
   "execution_count": 40,
   "id": "5bfff6e1-cbe1-4bff-8810-00e429e35c25",
   "metadata": {},
   "outputs": [
    {
     "data": {
      "image/png": "[encoded data removed]",
      "text/plain": [
       "<Figure size 640x480 with 1 Axes>"
      ]
     },
     "metadata": {},
     "output_type": "display_data"
    }
   ],
   "source": [
    "# Creating an empty graph\n",
    "G = nx.DiGraph()\n",
    "\n",
    "# Addding nodes\n",
    "num_nodes = graph_data2.num_nodes\n",
    "G.add_nodes_from(num_nodes)\n",
    "\n",
    "# Adding edges\n",
    "edges = [(graph_data2.edge_index[0, i].item(), graph_data2.edge_index[1, i].item()) \n",
    "             for i in range(graph_data2.edge_index.size(1))]\n",
    "G.add_edges_from(edges)\n",
    "\n",
    "# Positioning nodes using spring layout\n",
    "pos = nx.spring_layout(G)\n",
    "\n",
    "# Drawing graph\n",
    "nx.draw_networkx(G, pos, with_labels = True, font_weight = \"bold\")\n",
    "\n",
    "# Showing plot\n",
    "plt.show()"
   ]
  },
  {
   "cell_type": "code",
   "execution_count": 23,
   "id": "8fe3b718-223b-40b4-bedd-79a0efbcc0ee",
   "metadata": {},
   "outputs": [
    {
     "data": {
      "text/plain": [
       "6"
      ]
     },
     "execution_count": 23,
     "metadata": {},
     "output_type": "execute_result"
    }
   ],
   "source": [
    "graph_data2.num_nodes"
   ]
  },
  {
   "cell_type": "code",
   "execution_count": 24,
   "id": "1c26d4fe-2deb-42ec-a540-569d28de685a",
   "metadata": {},
   "outputs": [
    {
     "data": {
      "text/plain": [
       "6"
      ]
     },
     "execution_count": 24,
     "metadata": {},
     "output_type": "execute_result"
    }
   ],
   "source": [
    "graph_data2.num_edges"
   ]
  },
  {
   "cell_type": "code",
   "execution_count": 25,
   "id": "f27e01f6-58e5-4179-86db-1cf5440e743a",
   "metadata": {},
   "outputs": [
    {
     "data": {
      "text/plain": [
       "2"
      ]
     },
     "execution_count": 25,
     "metadata": {},
     "output_type": "execute_result"
    }
   ],
   "source": [
    "graph_data2.num_node_features"
   ]
  },
  {
   "cell_type": "markdown",
   "id": "48fb6a0b-1253-4b20-b998-bf7f496e9ee5",
   "metadata": {},
   "source": [
    "Verifying presence of isolated nodes"
   ]
  },
  {
   "cell_type": "code",
   "execution_count": 26,
   "id": "70d76822-fbb8-4003-b5e8-8b4a2992075f",
   "metadata": {},
   "outputs": [
    {
     "data": {
      "text/plain": [
       "True"
      ]
     },
     "execution_count": 26,
     "metadata": {},
     "output_type": "execute_result"
    }
   ],
   "source": [
    "graph_data2.has_isolated_nodes()"
   ]
  },
  {
   "cell_type": "markdown",
   "id": "61411d15-407e-4126-8078-0b76ecd7e64a",
   "metadata": {},
   "source": [
    "Verifying presence of self loops"
   ]
  },
  {
   "cell_type": "code",
   "execution_count": 27,
   "id": "1c3cd9d7-cda4-42b1-8908-d1e9751082b6",
   "metadata": {},
   "outputs": [
    {
     "data": {
      "text/plain": [
       "True"
      ]
     },
     "execution_count": 27,
     "metadata": {},
     "output_type": "execute_result"
    }
   ],
   "source": [
    "graph_data2.has_self_loops()"
   ]
  },
  {
   "cell_type": "markdown",
   "id": "324f272a-e4e5-48a0-8ee7-2e4219df327e",
   "metadata": {},
   "source": [
    "Also the graph is directed (3 to 4)"
   ]
  },
  {
   "cell_type": "code",
   "execution_count": 28,
   "id": "205a732d-8fa7-4caa-ae36-1badb2873506",
   "metadata": {},
   "outputs": [
    {
     "data": {
      "text/plain": [
       "True"
      ]
     },
     "execution_count": 28,
     "metadata": {},
     "output_type": "execute_result"
    }
   ],
   "source": [
    "graph_data2.is_directed()"
   ]
  },
  {
   "cell_type": "markdown",
   "id": "0f880fa0-1d37-401f-952b-9c12af1717ec",
   "metadata": {},
   "source": [
    "Downloading bench mark datasets from torch geometric. Ref-doc-link-\n",
    "https://pytorch-geometric.readthedocs.io/en/latest/get_started/introduction.html#common-benchmark-datasets\n",
    "\n",
    "https://graphsandnetworks.com/the-cora-dataset/\n",
    "\n",
    "The Cora dataset consists of 2708 scientific publications classified into one of seven classes. The citation network consists of 5429 links. Each publication in the dataset is described by a 0/1-valued word vector indicating the absence/presence of the corresponding word from the dictionary. The dictionary consists of 1433 unique words."
   ]
  },
  {
   "cell_type": "code",
   "execution_count": 29,
   "id": "e6f7c6f9-c3a2-4bea-843a-8bb21c7a6d9a",
   "metadata": {},
   "outputs": [
    {
     "name": "stderr",
     "output_type": "stream",
     "text": [
      "Downloading https://github.com/kimiyoung/planetoid/raw/master/data/ind.cora.x\n",
      "Downloading https://github.com/kimiyoung/planetoid/raw/master/data/ind.cora.tx\n",
      "Downloading https://github.com/kimiyoung/planetoid/raw/master/data/ind.cora.allx\n",
      "Downloading https://github.com/kimiyoung/planetoid/raw/master/data/ind.cora.y\n",
      "Downloading https://github.com/kimiyoung/planetoid/raw/master/data/ind.cora.ty\n",
      "Downloading https://github.com/kimiyoung/planetoid/raw/master/data/ind.cora.ally\n",
      "Downloading https://github.com/kimiyoung/planetoid/raw/master/data/ind.cora.graph\n",
      "Downloading https://github.com/kimiyoung/planetoid/raw/master/data/ind.cora.test.index\n",
      "Processing...\n",
      "Done!\n"
     ]
    },
    {
     "data": {
      "text/plain": [
       "Cora()"
      ]
     },
     "execution_count": 29,
     "metadata": {},
     "output_type": "execute_result"
    }
   ],
   "source": [
    "from torch_geometric.datasets import Planetoid\n",
    "\n",
    "cora_dataset = Planetoid(root = \"Cora_data\", name = \"Cora\")\n",
    "\n",
    "cora_dataset"
   ]
  },
  {
   "cell_type": "code",
   "execution_count": 30,
   "id": "ece9fbaf",
   "metadata": {},
   "outputs": [
    {
     "data": {
      "text/plain": [
       "1"
      ]
     },
     "execution_count": 30,
     "metadata": {},
     "output_type": "execute_result"
    }
   ],
   "source": [
    "len(cora_dataset)"
   ]
  },
  {
   "cell_type": "code",
   "execution_count": 31,
   "id": "07e3214f-b39b-4556-b437-ba5577c8b185",
   "metadata": {},
   "outputs": [
    {
     "data": {
      "text/plain": [
       "'https://github.com/kimiyoung/planetoid/raw/master/data'"
      ]
     },
     "execution_count": 31,
     "metadata": {},
     "output_type": "execute_result"
    }
   ],
   "source": [
    "cora_dataset.url"
   ]
  },
  {
   "cell_type": "markdown",
   "id": "c33b2352-687c-4db8-8745-3201b7175dd7",
   "metadata": {},
   "source": [
    "Seven classes of nodes - {'Case_Based',\n",
    " 'Genetic_Algorithms',\n",
    " 'Neural_Networks',\n",
    " 'Probabilistic_Methods',\n",
    " 'Reinforcement_Learning',\n",
    " 'Rule_Learning',\n",
    " 'Theory'}"
   ]
  },
  {
   "cell_type": "code",
   "execution_count": 32,
   "id": "582b48dd",
   "metadata": {},
   "outputs": [
    {
     "data": {
      "text/plain": [
       "7"
      ]
     },
     "execution_count": 32,
     "metadata": {},
     "output_type": "execute_result"
    }
   ],
   "source": [
    "cora_dataset.num_classes"
   ]
  },
  {
   "cell_type": "code",
   "execution_count": 33,
   "id": "e48f47c0",
   "metadata": {},
   "outputs": [
    {
     "data": {
      "text/plain": [
       "1433"
      ]
     },
     "execution_count": 33,
     "metadata": {},
     "output_type": "execute_result"
    }
   ],
   "source": [
    "cora_dataset.num_features"
   ]
  },
  {
   "cell_type": "code",
   "execution_count": 34,
   "id": "e9fc8c88-1943-4895-9adf-26743bab34df",
   "metadata": {},
   "outputs": [
    {
     "data": {
      "text/plain": [
       "Data(x=[2708, 1433], edge_index=[2, 10556], y=[2708], train_mask=[2708], val_mask=[2708], test_mask=[2708])"
      ]
     },
     "execution_count": 34,
     "metadata": {},
     "output_type": "execute_result"
    }
   ],
   "source": [
    "cora_graph = cora_dataset[0]\n",
    "\n",
    "cora_graph"
   ]
  },
  {
   "cell_type": "code",
   "execution_count": 35,
   "id": "b1e62433-0bab-4a4e-98e4-3a0c2f39608d",
   "metadata": {},
   "outputs": [
    {
     "data": {
      "text/plain": [
       "tensor([[0., 0., 0.,  ..., 0., 0., 0.],\n",
       "        [0., 0., 0.,  ..., 0., 0., 0.],\n",
       "        [0., 0., 0.,  ..., 0., 0., 0.],\n",
       "        ...,\n",
       "        [0., 0., 0.,  ..., 0., 0., 0.],\n",
       "        [0., 0., 0.,  ..., 0., 0., 0.],\n",
       "        [0., 0., 0.,  ..., 0., 0., 0.]])"
      ]
     },
     "execution_count": 35,
     "metadata": {},
     "output_type": "execute_result"
    }
   ],
   "source": [
    "cora_graph.x"
   ]
  },
  {
   "cell_type": "code",
   "execution_count": 36,
   "id": "3798105d-2f22-4c1d-b55d-e8eab22eb06f",
   "metadata": {},
   "outputs": [
    {
     "data": {
      "text/plain": [
       "tensor([[ 633, 1862, 2582,  ...,  598, 1473, 2706],\n",
       "        [   0,    0,    0,  ..., 2707, 2707, 2707]])"
      ]
     },
     "execution_count": 36,
     "metadata": {},
     "output_type": "execute_result"
    }
   ],
   "source": [
    "cora_graph.edge_index"
   ]
  },
  {
   "cell_type": "code",
   "execution_count": 37,
   "id": "522b6585-eacb-4c0b-b314-6684f24ddb45",
   "metadata": {},
   "outputs": [
    {
     "data": {
      "text/plain": [
       "torch.Size([2, 10556])"
      ]
     },
     "execution_count": 37,
     "metadata": {},
     "output_type": "execute_result"
    }
   ],
   "source": [
    "cora_graph.edge_index.shape"
   ]
  },
  {
   "cell_type": "code",
   "execution_count": 38,
   "id": "318c3f43-4eaa-4f5c-b417-dcfc7b409cd1",
   "metadata": {},
   "outputs": [
    {
     "data": {
      "text/plain": [
       "tensor([3, 4, 4,  ..., 3, 3, 3])"
      ]
     },
     "execution_count": 38,
     "metadata": {},
     "output_type": "execute_result"
    }
   ],
   "source": [
    "cora_graph.y"
   ]
  },
  {
   "cell_type": "markdown",
   "id": "dd4caa51-1d23-4e62-8543-52ceb5a1a91e",
   "metadata": {},
   "source": [
    "This time, the Data objects holds a label for each node, and additional node-level attributes: train_mask, val_mask and test_mask, where\n",
    "\n",
    "train_mask denotes against which nodes to train (140 nodes),\n",
    "\n",
    "val_mask denotes which nodes to use for validation, e.g., to perform early stopping (500 nodes),\n",
    "\n",
    "test_mask denotes against which nodes to test (1000 nodes)."
   ]
  },
  {
   "cell_type": "code",
   "execution_count": 39,
   "id": "dfe60864-5780-47a0-b1fd-11d57ac19599",
   "metadata": {},
   "outputs": [
    {
     "data": {
      "text/plain": [
       "(140, 500, 1000)"
      ]
     },
     "execution_count": 39,
     "metadata": {},
     "output_type": "execute_result"
    }
   ],
   "source": [
    "cora_graph.train_mask.sum().item(), cora_graph.val_mask.sum().item(), cora_graph.test_mask.sum().item()"
   ]
  },
  {
   "cell_type": "code",
   "execution_count": 41,
   "id": "ce01faf2-a4b8-47b3-afc2-ec8947042b1b",
   "metadata": {},
   "outputs": [
    {
     "data": {
      "image/png": "[encoded data removed]",
      "text/plain": [
       "<Figure size 1200x1000 with 1 Axes>"
      ]
     },
     "metadata": {},
     "output_type": "display_data"
    }
   ],
   "source": [
    "from torch_geometric.utils import to_networkx\n",
    "\n",
    "# Define label names and colors\n",
    "label_dict = {\n",
    "    0: \"Theory\",\n",
    "    1: \"Reinforcement_Learning\",\n",
    "    2: \"Genetic_Algorithms\",\n",
    "    3: \"Neural_Networks\",\n",
    "    4: \"Probabilistic_Methods\",\n",
    "    5: \"Case_Based\",\n",
    "    6: \"Rule_Learning\"\n",
    "}\n",
    "\n",
    "colorlist = ['#1f77b4', '#ff7f0e', '#2ca02c', '#d62728', '#9467bd', '#8c564b', '#e377c2']\n",
    "\n",
    "# Convert PyG graph to NetworkX graph\n",
    "G = to_networkx(cora_graph, to_undirected = False)\n",
    "\n",
    "# Prepare node colors and legends\n",
    "node_color = [colorlist[int(label)] for label in cora_graph.y]\n",
    "labellist = [label_dict[int(label)] for label in cora_graph.y]\n",
    "\n",
    "# Plot the graph\n",
    "pos = nx.spring_layout(G, seed = 123)\n",
    "plt.figure(figsize = (12, 10))\n",
    "nx.draw_networkx_nodes(G, pos, node_size = 5, node_color = node_color)\n",
    "nx.draw_networkx_edges(G, pos, width = 0.25)\n",
    "\n",
    "# Add legends\n",
    "for label, color in zip(label_dict.values(), colorlist):\n",
    "    plt.scatter([], [], c = color, label = label)\n",
    "    \n",
    "plt.legend(bbox_to_anchor = (1, 1), loc = \"upper left\")\n",
    "\n",
    "plt.show()\n"
   ]
  },
  {
   "cell_type": "markdown",
   "id": "7466c65b-079b-43bb-aa5f-9adda41bdffb",
   "metadata": {},
   "source": [
    "Now we are loading another dataset from TUD.\n",
    "https://chrsmrrs.github.io/datasets/docs/datasets/\n",
    "PROTEINS is a dataset of proteins that are classified as enzymes or non-enzymes. Nodes represent the amino acids and two nodes are connected by an edge if they are less than 6 Angstroms apart."
   ]
  },
  {
   "cell_type": "code",
   "execution_count": 42,
   "id": "612eb77a-d781-4234-ad38-b4f17fb3f116",
   "metadata": {},
   "outputs": [
    {
     "name": "stderr",
     "output_type": "stream",
     "text": [
      "Downloading https://www.chrsmrrs.com/graphkerneldatasets/PROTEINS_full.zip\n",
      "Processing...\n",
      "Done!\n"
     ]
    },
    {
     "data": {
      "text/plain": [
       "PROTEINS_full(1113)"
      ]
     },
     "execution_count": 42,
     "metadata": {},
     "output_type": "execute_result"
    }
   ],
   "source": [
    "from torch_geometric.datasets import TUDataset\n",
    "\n",
    "proteins_dataset = TUDataset(root = \"Proteins\", name = \"PROTEINS_full\")\n",
    "\n",
    "proteins_dataset"
   ]
  },
  {
   "cell_type": "markdown",
   "id": "ec85c203-8267-498d-b226-932ea9c2f1ea",
   "metadata": {},
   "source": [
    "1113 graphs are there within 2 classes(Enzymes or Non-Enzymes)"
   ]
  },
  {
   "cell_type": "code",
   "execution_count": 43,
   "id": "54e105cb-f00a-4ec1-bb1f-455f764cecb6",
   "metadata": {},
   "outputs": [
    {
     "data": {
      "text/plain": [
       "1113"
      ]
     },
     "execution_count": 43,
     "metadata": {},
     "output_type": "execute_result"
    }
   ],
   "source": [
    "len(proteins_dataset)"
   ]
  },
  {
   "cell_type": "code",
   "execution_count": 44,
   "id": "9dde1095-b8fe-48c9-b23c-ca81d542296d",
   "metadata": {},
   "outputs": [
    {
     "data": {
      "text/plain": [
       "2"
      ]
     },
     "execution_count": 44,
     "metadata": {},
     "output_type": "execute_result"
    }
   ],
   "source": [
    "proteins_dataset.num_classes"
   ]
  },
  {
   "cell_type": "code",
   "execution_count": 47,
   "id": "6ae14fa4-44ef-417d-ae6a-9ced979ef10b",
   "metadata": {},
   "outputs": [
    {
     "data": {
      "text/plain": [
       "3"
      ]
     },
     "execution_count": 47,
     "metadata": {},
     "output_type": "execute_result"
    }
   ],
   "source": [
    "proteins_dataset.num_node_features"
   ]
  },
  {
   "cell_type": "code",
   "execution_count": 49,
   "id": "5ca6b3b8-8722-4b0b-830a-8ba9eb124a8b",
   "metadata": {},
   "outputs": [
    {
     "data": {
      "text/plain": [
       "Data(edge_index=[2, 162], x=[42, 3], y=[1])"
      ]
     },
     "execution_count": 49,
     "metadata": {},
     "output_type": "execute_result"
    }
   ],
   "source": [
    "graph_protein = proteins_dataset[0]\n",
    "\n",
    "graph_protein"
   ]
  },
  {
   "cell_type": "code",
   "execution_count": 50,
   "id": "bc1c9c4d-ee82-47a5-ae97-fa451c68fb46",
   "metadata": {},
   "outputs": [
    {
     "data": {
      "text/plain": [
       "True"
      ]
     },
     "execution_count": 50,
     "metadata": {},
     "output_type": "execute_result"
    }
   ],
   "source": [
    "graph_protein.is_undirected()"
   ]
  },
  {
   "cell_type": "markdown",
   "id": "4f50eab7-33e0-4fd1-9142-4565a8eafd66",
   "metadata": {},
   "source": [
    "Neural networks are usually trained in a batch-wise fashion. PyG achieves parallelization over a mini-batch by creating sparse block diagonal adjacency matrices (defined by edge_index) and concatenating feature and target matrices in the node dimension. This composition allows differing number of nodes and edges over examples in one batch.\n",
    "\n",
    "Ref-doc-link-https://pytorch-geometric.readthedocs.io/en/latest/get_started/introduction.html#mini-batches"
   ]
  },
  {
   "cell_type": "code",
   "execution_count": 51,
   "id": "c9b5d0fa-8a2c-46cc-9f9e-e3a90d0920e4",
   "metadata": {},
   "outputs": [
    {
     "name": "stdout",
     "output_type": "stream",
     "text": [
      "DataBatch(edge_index=[2, 4754], x=[1296, 3], y=[32], batch=[1296], ptr=[33])\n",
      "DataBatch(edge_index=[2, 5162], x=[1371, 3], y=[32], batch=[1371], ptr=[33])\n",
      "DataBatch(edge_index=[2, 4666], x=[1238, 3], y=[32], batch=[1238], ptr=[33])\n",
      "DataBatch(edge_index=[2, 4612], x=[1274, 3], y=[32], batch=[1274], ptr=[33])\n",
      "DataBatch(edge_index=[2, 6252], x=[1555, 3], y=[32], batch=[1555], ptr=[33])\n",
      "DataBatch(edge_index=[2, 5288], x=[1397, 3], y=[32], batch=[1397], ptr=[33])\n",
      "DataBatch(edge_index=[2, 6256], x=[1640, 3], y=[32], batch=[1640], ptr=[33])\n",
      "DataBatch(edge_index=[2, 5610], x=[1581, 3], y=[32], batch=[1581], ptr=[33])\n",
      "DataBatch(edge_index=[2, 4340], x=[1153, 3], y=[32], batch=[1153], ptr=[33])\n",
      "DataBatch(edge_index=[2, 3320], x=[901, 3], y=[32], batch=[901], ptr=[33])\n",
      "DataBatch(edge_index=[2, 4190], x=[1090, 3], y=[32], batch=[1090], ptr=[33])\n",
      "DataBatch(edge_index=[2, 4856], x=[1241, 3], y=[32], batch=[1241], ptr=[33])\n",
      "DataBatch(edge_index=[2, 3990], x=[1090, 3], y=[32], batch=[1090], ptr=[33])\n",
      "DataBatch(edge_index=[2, 5462], x=[1485, 3], y=[32], batch=[1485], ptr=[33])\n",
      "DataBatch(edge_index=[2, 5282], x=[1415, 3], y=[32], batch=[1415], ptr=[33])\n",
      "DataBatch(edge_index=[2, 5106], x=[1366, 3], y=[32], batch=[1366], ptr=[33])\n",
      "DataBatch(edge_index=[2, 5026], x=[1317, 3], y=[32], batch=[1317], ptr=[33])\n",
      "DataBatch(edge_index=[2, 4998], x=[1355, 3], y=[32], batch=[1355], ptr=[33])\n",
      "DataBatch(edge_index=[2, 2456], x=[679, 3], y=[32], batch=[679], ptr=[33])\n",
      "DataBatch(edge_index=[2, 4048], x=[1125, 3], y=[32], batch=[1125], ptr=[33])\n",
      "DataBatch(edge_index=[2, 4864], x=[1315, 3], y=[32], batch=[1315], ptr=[33])\n",
      "DataBatch(edge_index=[2, 3514], x=[935, 3], y=[32], batch=[935], ptr=[33])\n",
      "DataBatch(edge_index=[2, 4304], x=[1121, 3], y=[32], batch=[1121], ptr=[33])\n",
      "DataBatch(edge_index=[2, 4854], x=[1311, 3], y=[32], batch=[1311], ptr=[33])\n",
      "DataBatch(edge_index=[2, 4410], x=[1182, 3], y=[32], batch=[1182], ptr=[33])\n",
      "DataBatch(edge_index=[2, 4430], x=[1196, 3], y=[32], batch=[1196], ptr=[33])\n",
      "DataBatch(edge_index=[2, 3328], x=[874, 3], y=[32], batch=[874], ptr=[33])\n",
      "DataBatch(edge_index=[2, 4304], x=[1175, 3], y=[32], batch=[1175], ptr=[33])\n",
      "DataBatch(edge_index=[2, 5216], x=[1365, 3], y=[32], batch=[1365], ptr=[33])\n",
      "DataBatch(edge_index=[2, 3732], x=[1011, 3], y=[32], batch=[1011], ptr=[33])\n",
      "DataBatch(edge_index=[2, 4476], x=[1257, 3], y=[32], batch=[1257], ptr=[33])\n",
      "DataBatch(edge_index=[2, 4688], x=[1225, 3], y=[32], batch=[1225], ptr=[33])\n",
      "DataBatch(edge_index=[2, 3858], x=[1009, 3], y=[32], batch=[1009], ptr=[33])\n",
      "DataBatch(edge_index=[2, 6946], x=[1980, 3], y=[32], batch=[1980], ptr=[33])\n",
      "DataBatch(edge_index=[2, 3490], x=[946, 3], y=[25], batch=[946], ptr=[26])\n"
     ]
    }
   ],
   "source": [
    "from torch_geometric.loader import DataLoader\n",
    "\n",
    "protein_loader = DataLoader(proteins_dataset, batch_size = 32, shuffle = True)\n",
    "\n",
    "for batch in protein_loader:\n",
    "    print(batch)"
   ]
  },
  {
   "cell_type": "code",
   "execution_count": 112,
   "id": "03ba7e45-ca38-4fb3-8bfc-058cdc3b1705",
   "metadata": {},
   "outputs": [
    {
     "data": {
      "text/plain": [
       "DataBatch(edge_index=[2, 4660], x=[1278, 3], y=[32], batch=[1278], ptr=[33])"
      ]
     },
     "execution_count": 112,
     "metadata": {},
     "output_type": "execute_result"
    }
   ],
   "source": [
    "batch_proteins_data = next(iter(protein_loader))\n",
    "\n",
    "batch_proteins_data "
   ]
  },
  {
   "cell_type": "markdown",
   "id": "4807b72a-0066-4730-9493-dbfb72975499",
   "metadata": {},
   "source": [
    "Heterogenous graphs -\n",
    "https://pytorch-geometric.readthedocs.io/en/latest/notes/heterogeneous.html...Creating a fake social network graph.\n",
    "We define node features for two types of nodes: 'user' and 'post'.\n",
    "\n",
    "We define edge indices for two types of relationships: 'follows' (between users), 'liked_by' (from posts to users), and 'posted_by' (from posts to users).\n",
    "\n",
    "We create a HeteroData object and add node features and edge indices for each node and edge type using the appropriate keys."
   ]
  },
  {
   "cell_type": "code",
   "execution_count": 60,
   "id": "ae822522-55f3-456e-9335-3152b37bcb22",
   "metadata": {},
   "outputs": [
    {
     "data": {
      "text/plain": [
       "tensor([[ 0.8935,  0.2584, -1.0457, -0.1877, -1.1859, -0.5450,  2.2043, -1.8061],\n",
       "        [ 0.1688, -0.5273, -1.2087, -2.4464, -0.0975,  0.6460, -0.1279, -0.8555],\n",
       "        [ 0.8150,  0.2648,  0.3153,  0.1639,  0.5274, -0.4862,  1.6082, -0.9184],\n",
       "        [-0.4616,  0.0486, -0.1350, -1.1696,  2.3588, -0.8466,  0.7560, -0.1999],\n",
       "        [-1.1077, -1.1532,  0.5421, -0.1729, -1.2044, -0.0066,  1.6411,  0.4185],\n",
       "        [ 1.7607, -0.5373, -1.2703, -0.0634,  0.4814,  0.7906,  0.1784, -0.2511],\n",
       "        [ 0.1110, -0.1293,  0.5694,  0.2980,  2.4832,  0.2297,  1.5212, -0.7018],\n",
       "        [-0.1216, -0.3989,  0.1953, -0.5965,  1.0337,  0.3384,  1.8663, -1.4355],\n",
       "        [-0.5108, -0.2874,  0.2290,  0.3194,  0.6083,  0.5367, -0.6908,  0.3487],\n",
       "        [-0.5661, -1.2952, -1.0627, -0.3194,  2.7247, -0.4753, -0.6736,  1.5647]])"
      ]
     },
     "execution_count": 60,
     "metadata": {},
     "output_type": "execute_result"
    }
   ],
   "source": [
    "from torch_geometric.data import HeteroData\n",
    "\n",
    "num_users = 10\n",
    "num_posts = 40\n",
    "\n",
    "# Features for user nodes (10 nodes, 8 features each)\n",
    "user_features = torch.randn(num_users, 8) \n",
    "\n",
    "# Features for post nodes (40 nodes, 5 features each)\n",
    "post_features = torch.randn(num_posts, 5)   \n",
    "\n",
    "follows_edges = torch.tensor([[0, 1], [1, 2], [2, 3], [3, 4], [4, 5]])  \n",
    "posted_by_edges = torch.tensor([[0, 1], [1, 0], [3, 1]])\n",
    "liked_by_edges = torch.tensor([[3, 1], [5, 6], [6, 5], [4, 2]])\n",
    "\n",
    "follows_features = torch.randn(follows_edges.shape[0], 3)\n",
    "posted_by_features = torch.randn(posted_by_edges.shape[0], 2)\n",
    "liked_by_features = torch.randn(liked_by_edges.shape[0], 1)\n",
    "\n",
    "user_features"
   ]
  },
  {
   "cell_type": "code",
   "execution_count": 61,
   "id": "ffcde18c-58ec-4185-94c6-d94319bd0dd9",
   "metadata": {},
   "outputs": [
    {
     "data": {
      "text/plain": [
       "tensor([[ 1.2201e-01,  1.1044e+00, -5.0553e-01,  1.3093e+00,  8.5503e-01],\n",
       "        [ 9.4326e-01,  1.7279e+00, -9.7709e-01,  2.0914e+00,  3.3431e-01],\n",
       "        [ 1.0584e+00,  6.2102e-01, -1.0100e+00, -1.2094e+00, -1.2565e+00],\n",
       "        [-1.8698e+00, -6.4420e-01,  2.0598e+00,  6.0432e-01,  8.1314e-01],\n",
       "        [-1.0047e-02, -1.5566e+00,  2.2522e+00, -2.5999e-01,  2.7519e+00],\n",
       "        [-5.8699e-01,  2.4031e-03,  1.3137e+00,  9.6658e-01, -3.1678e-01],\n",
       "        [ 3.4193e-01, -7.6439e-02, -1.3839e+00,  1.2969e+00,  3.2219e-01],\n",
       "        [-3.3019e-01,  3.6971e-02, -1.2438e+00,  7.0435e-01,  6.1034e-01],\n",
       "        [ 1.8329e+00, -1.6881e+00,  3.5459e-02, -9.0346e-01, -1.7991e+00],\n",
       "        [-8.8523e-01, -4.6322e-01,  2.8154e+00, -1.6833e+00,  6.6804e-01],\n",
       "        [-7.6290e-01, -9.2949e-02, -1.6447e+00,  5.1233e-01,  3.5122e-02],\n",
       "        [-8.2460e-01, -1.3007e+00, -6.4756e-01, -6.4723e-01, -2.2532e+00],\n",
       "        [-1.6489e-01, -1.9396e+00, -8.0057e-01, -5.9102e-02, -1.1908e+00],\n",
       "        [-1.0729e+00,  1.1422e+00, -1.3815e+00,  8.1025e-01,  2.0604e+00],\n",
       "        [-1.1492e+00, -1.3938e+00,  7.6330e-01,  3.1424e-01, -6.2651e-01],\n",
       "        [-1.2958e+00, -1.0325e-01,  2.7442e-01, -5.8256e-01,  5.4634e-01],\n",
       "        [-7.3481e-01,  1.8122e+00,  4.2495e-02,  7.4485e-01, -2.5960e-01],\n",
       "        [-6.2796e-02, -2.0842e+00,  7.7996e-01,  4.0506e-01, -4.0119e-01],\n",
       "        [ 1.0666e-02,  6.4158e-01, -1.0358e+00,  7.5786e-01,  1.5777e+00],\n",
       "        [-4.5302e-01, -1.4130e+00, -2.2845e-01,  1.5828e-01,  2.6528e-01],\n",
       "        [-7.6965e-01, -1.2475e+00, -9.5970e-01,  5.0209e-01, -1.3157e-01],\n",
       "        [-4.8692e-02, -3.2433e-01, -1.9336e+00, -3.8859e-01,  5.3104e-01],\n",
       "        [-1.6524e+00, -2.2150e-01,  1.8480e-01, -2.0566e+00, -1.4022e+00],\n",
       "        [ 7.7616e-01,  2.6532e-01,  8.8707e-01, -8.1719e-01, -6.4048e-01],\n",
       "        [-9.6509e-01, -2.7334e-01,  1.7646e+00,  1.8133e-01,  1.4632e+00],\n",
       "        [-4.8400e-01,  1.5391e-01, -7.4992e-01,  1.5364e+00, -6.7430e-01],\n",
       "        [-3.1598e-01,  1.8325e+00,  9.0216e-02, -1.0171e+00, -2.4218e+00],\n",
       "        [ 8.0511e-01, -3.2527e-01,  8.8066e-01,  1.0500e-02, -1.3322e+00],\n",
       "        [ 2.4301e+00,  5.7134e-01,  7.8780e-01,  1.7254e+00, -3.0644e-01],\n",
       "        [-1.8152e-01,  2.3470e-01, -3.3920e-01, -4.7053e-01, -7.8431e-01],\n",
       "        [-1.0499e+00,  2.7308e-01, -2.1222e+00, -2.6766e-01,  8.7737e-01],\n",
       "        [-1.6622e+00,  3.2627e-01, -7.3721e-01, -4.5898e-02, -2.4282e-01],\n",
       "        [-8.9189e-01,  3.7332e-01,  1.9240e+00, -7.6328e-01,  1.0688e-01],\n",
       "        [ 5.5237e-01, -2.6418e-01, -1.3724e+00, -1.2706e+00, -8.9043e-01],\n",
       "        [-2.0880e-01, -1.4147e+00,  3.3949e-01,  9.3961e-01,  7.9972e-01],\n",
       "        [-8.0376e-01,  3.5142e-01, -1.9005e-01,  8.2695e-01,  1.4737e+00],\n",
       "        [-4.5298e-01,  2.5675e-01,  1.3241e+00, -6.9717e-03,  1.0028e+00],\n",
       "        [ 1.5492e+00, -5.5633e-01,  5.7580e-01,  1.4290e+00,  1.7469e-01],\n",
       "        [-3.0723e-01, -1.1896e+00, -8.5710e-01, -1.0113e+00,  1.3063e+00],\n",
       "        [ 2.5757e+00, -1.0708e+00,  1.1872e+00, -2.6360e+00, -1.5267e+00]])"
      ]
     },
     "execution_count": 61,
     "metadata": {},
     "output_type": "execute_result"
    }
   ],
   "source": [
    "post_features "
   ]
  },
  {
   "cell_type": "markdown",
   "id": "87f59c2f-5b8a-45ca-9357-a0fccc9f645a",
   "metadata": {},
   "source": [
    "Defining edge indices and edge features for different types of relationships\n",
    "For example, 'follows' edges between users,'posted_by'  and 'liked_by' edges from posts to users"
   ]
  },
  {
   "cell_type": "code",
   "execution_count": 62,
   "id": "8fbbe6d9-ad6c-4671-88f9-738c5bbf8737",
   "metadata": {},
   "outputs": [
    {
     "name": "stdout",
     "output_type": "stream",
     "text": [
      "HeteroData(\n",
      "  user={ x=[10, 8] },\n",
      "  post={ x=[40, 5] },\n",
      "  (user, follows, user)={\n",
      "    edge_index=[2, 5],\n",
      "    edge_attr=[5, 3],\n",
      "  },\n",
      "  (post, posted_by, user)={\n",
      "    edge_index=[2, 3],\n",
      "    edge_attr=[3, 2],\n",
      "  },\n",
      "  (post, liked_by, user)={\n",
      "    edge_index=[2, 4],\n",
      "    edge_attr=[4, 1],\n",
      "  }\n",
      ")\n"
     ]
    }
   ],
   "source": [
    "# Create a HeteroData object\n",
    "social_network_data = HeteroData()\n",
    "\n",
    "# Add node features for each node type\n",
    "social_network_data[\"user\"].x = user_features\n",
    "social_network_data[\"post\"].x = post_features\n",
    "\n",
    "# Transpose edge indices for correct orientation (num_edges, 2) -> (2. num_edges)\n",
    "social_network_data[\"user\", \"follows\", \"user\"].edge_index = follows_edges.t() \n",
    "social_network_data[\"post\", \"posted_by\", \"user\"].edge_index = posted_by_edges.t()\n",
    "social_network_data[\"post\", \"liked_by\", \"user\"].edge_index = liked_by_edges.t()\n",
    "\n",
    "# Assign edge attributes\n",
    "social_network_data[\"user\", \"follows\", \"user\"].edge_attr = follows_features\n",
    "social_network_data[\"post\", \"posted_by\", \"user\"].edge_attr = posted_by_features\n",
    "social_network_data[\"post\", \"liked_by\", \"user\"].edge_attr = liked_by_features\n",
    "\n",
    "print(social_network_data)"
   ]
  },
  {
   "cell_type": "markdown",
   "id": "9f60a0bd-763a-4a18-8125-7e34f8055562",
   "metadata": {},
   "source": [
    "Downloading Movielens data\n",
    "\n",
    "We are going to use the MovieLens dataset collected by the GroupLens research group. This toy dataset describes 5-star rating and tagging activity from MovieLens. The dataset contains approximately 100k ratings across more than 9k movies from more than 600 users. We are going to use this dataset to generate two node types holding data for movies and users, respectively, and one edge type connecting users and movies, representing the relation of how a user has rated a specific movie."
   ]
  },
  {
   "cell_type": "code",
   "execution_count": 63,
   "id": "e2bde89b-ab42-4698-ac8f-0c560388b488",
   "metadata": {},
   "outputs": [
    {
     "name": "stderr",
     "output_type": "stream",
     "text": [
      "Downloading https://files.grouplens.org/datasets/movielens/ml-latest-small.zip\n",
      "Extracting Movielens/raw/ml-latest-small.zip\n",
      "Processing...\n",
      "/Users/vitthalsrinivasan/anaconda3/lib/python3.10/site-packages/huggingface_hub/file_download.py:1132: FutureWarning: `resume_download` is deprecated and will be removed in version 1.0.0. Downloads always resume when possible. If you want to force a new download, use `force_download=True`.\n",
      "  warnings.warn(\n",
      "Batches: 100%|████████████████████████████████████| 305/305 [01:13<00:00,  4.15it/s]\n",
      "Done!\n"
     ]
    },
    {
     "data": {
      "text/plain": [
       "MovieLens()"
      ]
     },
     "execution_count": 63,
     "metadata": {},
     "output_type": "execute_result"
    }
   ],
   "source": [
    "from torch_geometric.datasets import MovieLens\n",
    "\n",
    "movielens_dataset = MovieLens(root = \"Movielens\")\n",
    "\n",
    "movielens_dataset"
   ]
  },
  {
   "cell_type": "code",
   "execution_count": 65,
   "id": "2b1cd969-65dd-4421-bc03-011b0d0b3176",
   "metadata": {},
   "outputs": [
    {
     "data": {
      "text/plain": [
       "1"
      ]
     },
     "execution_count": 65,
     "metadata": {},
     "output_type": "execute_result"
    }
   ],
   "source": [
    "len(movielens_dataset)"
   ]
  },
  {
   "cell_type": "code",
   "execution_count": 66,
   "id": "50f5f682-4ca8-4f01-800a-bdd457757e51",
   "metadata": {},
   "outputs": [
    {
     "data": {
      "text/plain": [
       "HeteroData(\n",
       "  movie={ x=[9742, 404] },\n",
       "  user={ num_nodes=610 },\n",
       "  (user, rates, movie)={\n",
       "    edge_index=[2, 100836],\n",
       "    edge_label=[100836],\n",
       "    time=[100836],\n",
       "  }\n",
       ")"
      ]
     },
     "execution_count": 66,
     "metadata": {},
     "output_type": "execute_result"
    }
   ],
   "source": [
    "movielens_graph = movielens_dataset[0]\n",
    "\n",
    "movielens_graph"
   ]
  },
  {
   "cell_type": "markdown",
   "id": "4ecbbee9-38cc-49b5-ade9-d726dbc1a1ae",
   "metadata": {},
   "source": [
    "Details can be extracted "
   ]
  },
  {
   "cell_type": "code",
   "execution_count": 67,
   "id": "c5af45e8-4029-449e-a7f5-f8059d262790",
   "metadata": {},
   "outputs": [
    {
     "data": {
      "text/plain": [
       "{'x': tensor([[-0.0828,  0.0530,  0.0536,  ...,  0.0000,  0.0000,  0.0000],\n",
       "        [-0.1053,  0.1508, -0.0264,  ...,  0.0000,  0.0000,  0.0000],\n",
       "        [-0.0988,  0.0176, -0.0527,  ...,  0.0000,  0.0000,  0.0000],\n",
       "        ...,\n",
       "        [-0.1115,  0.0310, -0.0177,  ...,  0.0000,  0.0000,  0.0000],\n",
       "        [ 0.0366,  0.0137,  0.0315,  ...,  0.0000,  0.0000,  0.0000],\n",
       "        [-0.0500, -0.0141, -0.0031,  ...,  0.0000,  0.0000,  0.0000]])}"
      ]
     },
     "execution_count": 67,
     "metadata": {},
     "output_type": "execute_result"
    }
   ],
   "source": [
    "movielens_graph[\"movie\"]"
   ]
  },
  {
   "cell_type": "code",
   "execution_count": 68,
   "id": "77b7e994-d891-46e0-bfc3-7b4af48664ca",
   "metadata": {},
   "outputs": [
    {
     "data": {
      "text/plain": [
       "{'edge_index': tensor([[   0,    0,    0,  ...,  609,  609,  609],\n",
       "        [   0,    2,    5,  ..., 9462, 9463, 9503]]), 'edge_label': tensor([4, 4, 4,  ..., 5, 5, 3]), 'time': tensor([ 964982703,  964981247,  964982224,  ..., 1494273047, 1493846352,\n",
       "        1493846415])}"
      ]
     },
     "execution_count": 68,
     "metadata": {},
     "output_type": "execute_result"
    }
   ],
   "source": [
    "movielens_graph[\"user\", \"rates\", \"movie\"]"
   ]
  },
  {
   "cell_type": "markdown",
   "id": "c357d49f-9a3a-4307-9c0a-1dd08c74c258",
   "metadata": {},
   "source": [
    "Loading IMDB graph data-\n",
    "Ref.doc-link- \n",
    "https://docs.graphcore.ai/projects/tutorials/en/latest/pytorch_geometric/6_heterogeneous_graphs/README.html#introduction-to-heterogeneous-graphs"
   ]
  },
  {
   "cell_type": "code",
   "execution_count": 69,
   "id": "710002d6",
   "metadata": {},
   "outputs": [
    {
     "name": "stderr",
     "output_type": "stream",
     "text": [
      "Downloading https://www.dropbox.com/s/g0btk9ctr1es39x/IMDB_processed.zip?dl=1\n",
      "Extracting IMDB/raw/IMDB_processed.zip\n",
      "Processing...\n",
      "Done!\n"
     ]
    },
    {
     "data": {
      "text/plain": [
       "IMDB()"
      ]
     },
     "execution_count": 69,
     "metadata": {},
     "output_type": "execute_result"
    }
   ],
   "source": [
    "from torch_geometric.datasets import IMDB\n",
    "\n",
    "imdb_dataset = IMDB(root = \"IMDB\")\n",
    "imdb_dataset"
   ]
  },
  {
   "cell_type": "markdown",
   "id": "3b2c2623-bba7-4da7-a893-8626342b77d8",
   "metadata": {},
   "source": [
    "Only one graph present"
   ]
  },
  {
   "cell_type": "code",
   "execution_count": 70,
   "id": "d22aa4e8-d9f4-4b89-8917-84a6945ebdb8",
   "metadata": {},
   "outputs": [
    {
     "data": {
      "text/plain": [
       "1"
      ]
     },
     "execution_count": 70,
     "metadata": {},
     "output_type": "execute_result"
    }
   ],
   "source": [
    "len(imdb_dataset)"
   ]
  },
  {
   "cell_type": "markdown",
   "id": "8ba4c151-9974-4d34-b37b-4e7267499195",
   "metadata": {},
   "source": [
    "This dataset is heterogenous"
   ]
  },
  {
   "cell_type": "code",
   "execution_count": 71,
   "id": "c9c6dac8-6a75-40b3-973c-cad2ccea8cb0",
   "metadata": {},
   "outputs": [
    {
     "data": {
      "text/plain": [
       "HeteroData(\n",
       "  movie={\n",
       "    x=[4278, 3066],\n",
       "    y=[4278],\n",
       "    train_mask=[4278],\n",
       "    val_mask=[4278],\n",
       "    test_mask=[4278],\n",
       "  },\n",
       "  director={ x=[2081, 3066] },\n",
       "  actor={ x=[5257, 3066] },\n",
       "  (movie, to, director)={ edge_index=[2, 4278] },\n",
       "  (movie, to, actor)={ edge_index=[2, 12828] },\n",
       "  (director, to, movie)={ edge_index=[2, 4278] },\n",
       "  (actor, to, movie)={ edge_index=[2, 12828] }\n",
       ")"
      ]
     },
     "execution_count": 71,
     "metadata": {},
     "output_type": "execute_result"
    }
   ],
   "source": [
    "imdb_data = imdb_dataset[0]\n",
    "\n",
    "imdb_data"
   ]
  },
  {
   "cell_type": "code",
   "execution_count": null,
   "id": "71b13189",
   "metadata": {},
   "outputs": [],
   "source": []
  },
  {
   "cell_type": "code",
   "execution_count": null,
   "id": "b11a0990",
   "metadata": {},
   "outputs": [],
   "source": []
  },
  {
   "cell_type": "code",
   "execution_count": null,
   "id": "003f1955",
   "metadata": {},
   "outputs": [],
   "source": []
  },
  {
   "cell_type": "code",
   "execution_count": null,
   "id": "9324710f",
   "metadata": {},
   "outputs": [],
   "source": []
  },
  {
   "cell_type": "code",
   "execution_count": null,
   "id": "53c2e9a8",
   "metadata": {},
   "outputs": [],
   "source": []
  },
  {
   "cell_type": "code",
   "execution_count": null,
   "id": "ccd7fb48",
   "metadata": {},
   "outputs": [],
   "source": []
  },
  {
   "cell_type": "code",
   "execution_count": null,
   "id": "4408493c",
   "metadata": {},
   "outputs": [],
   "source": []
  },
  {
   "cell_type": "code",
   "execution_count": null,
   "id": "e8a396d7",
   "metadata": {},
   "outputs": [],
   "source": []
  },
  {
   "cell_type": "code",
   "execution_count": null,
   "id": "d0153560",
   "metadata": {},
   "outputs": [],
   "source": []
  },
  {
   "cell_type": "code",
   "execution_count": null,
   "id": "d1104056",
   "metadata": {},
   "outputs": [],
   "source": []
  },
  {
   "cell_type": "code",
   "execution_count": null,
   "id": "c1f648bd",
   "metadata": {},
   "outputs": [],
   "source": []
  },
  {
   "cell_type": "code",
   "execution_count": null,
   "id": "0159bf4f",
   "metadata": {},
   "outputs": [],
   "source": []
  },
  {
   "cell_type": "code",
   "execution_count": null,
   "id": "a8879bdc",
   "metadata": {},
   "outputs": [],
   "source": []
  },
  {
   "cell_type": "code",
   "execution_count": null,
   "id": "5ac3eb1c",
   "metadata": {},
   "outputs": [],
   "source": []
  },
  {
   "cell_type": "code",
   "execution_count": null,
   "id": "172eb931",
   "metadata": {},
   "outputs": [],
   "source": []
  },
  {
   "cell_type": "code",
   "execution_count": null,
   "id": "7b5dd594",
   "metadata": {},
   "outputs": [],
   "source": []
  },
  {
   "cell_type": "code",
   "execution_count": null,
   "id": "9a74e071",
   "metadata": {},
   "outputs": [],
   "source": []
  },
  {
   "cell_type": "code",
   "execution_count": null,
   "id": "1fa07cfa",
   "metadata": {},
   "outputs": [],
   "source": []
  },
  {
   "cell_type": "code",
   "execution_count": null,
   "id": "0e2bc363",
   "metadata": {},
   "outputs": [],
   "source": []
  },
  {
   "cell_type": "code",
   "execution_count": null,
   "id": "83082f0d",
   "metadata": {},
   "outputs": [],
   "source": []
  },
  {
   "cell_type": "code",
   "execution_count": null,
   "id": "bc35548f",
   "metadata": {},
   "outputs": [],
   "source": []
  },
  {
   "cell_type": "code",
   "execution_count": null,
   "id": "4c861971",
   "metadata": {},
   "outputs": [],
   "source": []
  },
  {
   "cell_type": "code",
   "execution_count": null,
   "id": "6a36a376",
   "metadata": {},
   "outputs": [],
   "source": []
  },
  {
   "cell_type": "code",
   "execution_count": null,
   "id": "68780e57",
   "metadata": {},
   "outputs": [],
   "source": []
  },
  {
   "cell_type": "code",
   "execution_count": null,
   "id": "e071c178",
   "metadata": {},
   "outputs": [],
   "source": []
  },
  {
   "cell_type": "code",
   "execution_count": null,
   "id": "453792d6",
   "metadata": {},
   "outputs": [],
   "source": []
  },
  {
   "cell_type": "code",
   "execution_count": null,
   "id": "e57079e4",
   "metadata": {},
   "outputs": [],
   "source": []
  },
  {
   "cell_type": "code",
   "execution_count": null,
   "id": "5ddf97e3",
   "metadata": {},
   "outputs": [],
   "source": []
  },
  {
   "cell_type": "code",
   "execution_count": null,
   "id": "65ea2741",
   "metadata": {},
   "outputs": [],
   "source": []
  },
  {
   "cell_type": "code",
   "execution_count": null,
   "id": "b70f2259",
   "metadata": {},
   "outputs": [],
   "source": []
  },
  {
   "cell_type": "code",
   "execution_count": null,
   "id": "2620029f",
   "metadata": {},
   "outputs": [],
   "source": []
  },
  {
   "cell_type": "code",
   "execution_count": null,
   "id": "b6f20ffa",
   "metadata": {},
   "outputs": [],
   "source": []
  },
  {
   "cell_type": "code",
   "execution_count": null,
   "id": "98251036",
   "metadata": {},
   "outputs": [],
   "source": []
  }
 ],
 "metadata": {
  "kernelspec": {
   "display_name": "Python 3 (ipykernel)",
   "language": "python",
   "name": "python3"
  },
  "language_info": {
   "codemirror_mode": {
    "name": "ipython",
    "version": 3
   },
   "file_extension": ".py",
   "mimetype": "text/x-python",
   "name": "python",
   "nbconvert_exporter": "python",
   "pygments_lexer": "ipython3",
   "version": "3.10.9"
  }
 },
 "nbformat": 4,
 "nbformat_minor": 5
}
